{
  "nbformat": 4,
  "nbformat_minor": 0,
  "metadata": {
    "colab": {
      "provenance": [],
      "authorship_tag": "ABX9TyNSL9XvjycVIfyXvYfo+MpC",
      "include_colab_link": true
    },
    "kernelspec": {
      "name": "python3",
      "display_name": "Python 3"
    },
    "language_info": {
      "name": "python"
    }
  },
  "cells": [
    {
      "cell_type": "markdown",
      "metadata": {
        "id": "view-in-github",
        "colab_type": "text"
      },
      "source": [
        "<a href=\"https://colab.research.google.com/github/pedro-paulino-de-lima/GitTest/blob/main/Photo2Text.ipynb\" target=\"_parent\"><img src=\"https://colab.research.google.com/assets/colab-badge.svg\" alt=\"Open In Colab\"/></a>"
      ]
    },
    {
      "cell_type": "code",
      "execution_count": null,
      "metadata": {
        "id": "k4f2Et9LUuRJ"
      },
      "outputs": [],
      "source": [
        "import easyocr\n",
        "import os"
      ]
    },
    {
      "cell_type": "code",
      "source": [
        "images = []\n",
        "\n",
        "for file in os.listdir():\n",
        "  if file not in [\".config\", \".ipynb_checkpoints\", \"sample_data\"]:\n",
        "    images.append(file)\n",
        "\n",
        "print(images)"
      ],
      "metadata": {
        "colab": {
          "base_uri": "https://localhost:8080/"
        },
        "id": "tau_m04EkCte",
        "outputId": "abedbe76-7f76-46bf-d656-d2397bb351d7"
      },
      "execution_count": null,
      "outputs": [
        {
          "output_type": "stream",
          "name": "stdout",
          "text": [
            "['1000w_q95.webp', '9MarRebrand_Blogpost_EN-2-e1710214796739.png', 'calif-black-plate.jpg', 'images (1).jpg', 'positron.png', 'onibus-g8-aguia-branca-1-1699588019747_v2_900x506.jpg', 'Brazilian_vehicle_license_plate_(2018-).jpg', 'images.png', 'Air Force planes 2.jpg.jpg', '860x394.jpg', 'Onibus-Sou.webp']\n"
          ]
        }
      ]
    },
    {
      "cell_type": "code",
      "source": [
        "reader = easyocr.Reader([\"pt\"])"
      ],
      "metadata": {
        "colab": {
          "base_uri": "https://localhost:8080/"
        },
        "id": "9n_T95ptVvFW",
        "outputId": "c47d8bcf-2c9b-4171-c748-952b7e560902"
      },
      "execution_count": null,
      "outputs": [
        {
          "output_type": "stream",
          "name": "stderr",
          "text": [
            "WARNING:easyocr.easyocr:Neither CUDA nor MPS are available - defaulting to CPU. Note: This module is much faster with a GPU.\n"
          ]
        }
      ]
    },
    {
      "cell_type": "code",
      "source": [
        "for image in images:\n",
        "  result = reader.readtext(image=image)[0]\n",
        "  print(result[1])"
      ],
      "metadata": {
        "colab": {
          "base_uri": "https://localhost:8080/"
        },
        "id": "ty1YwPzukLgi",
        "outputId": "de26f71b-6e22-4df8-a874-a9fa332b5ebe"
      },
      "execution_count": null,
      "outputs": [
        {
          "output_type": "stream",
          "name": "stdout",
          "text": [
            "U.S. AIR\n",
            "MYTUKAR /S\n",
            "CALIFORNIA\n",
            "BRASIL\n",
            "PGSITRON\n",
            "maRCopolo\n",
            "BRASIL\n",
            "CARRO\n",
            "U.S.AIR FORCE\n",
            "U.S.AIR\n",
            "DAS\n"
          ]
        }
      ]
    }
  ]
}